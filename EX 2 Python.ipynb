{
 "cells": [
  {
   "cell_type": "code",
   "execution_count": 1,
   "id": "96642844",
   "metadata": {},
   "outputs": [
    {
     "name": "stdout",
     "output_type": "stream",
     "text": [
      "String Operator\n",
      "1.Lowecase\n",
      "2.Uppercase\n",
      "3.Titlecase\n",
      "4.Swapcase\n",
      "5.Reverse\n",
      "6.Length\n",
      "7.Alphabetic\n",
      "8.Check if lowercase\n",
      "9.Check if uppercase\n",
      "10.Check if titlecase\n",
      "Enter the choice:1\n",
      "Enter the string:vincent\n",
      "vincent\n",
      "Do you want to continue?(Yes/No):yes\n",
      "Enter the choice:1\n",
      "Enter the string:PdP\n",
      "pdp\n",
      "Do you want to continue?(Yes/No):no\n"
     ]
    }
   ],
   "source": [
    "print('String Operator')\n",
    "print('1.Lowecase')\n",
    "print('2.Uppercase')\n",
    "print('3.Titlecase')\n",
    "print('4.Swapcase')\n",
    "print('5.Reverse')\n",
    "print('6.Length')\n",
    "print('7.Alphabetic')\n",
    "print('8.Check if lowercase')\n",
    "print('9.Check if uppercase')\n",
    "print('10.Check if titlecase')\n",
    "while True:\n",
    "    a=int(input(\"Enter the choice:\"))\n",
    "    s=input(\"Enter the string:\")\n",
    "    if a==1:\n",
    "        print(s.lower())\n",
    "    elif a==2:\n",
    "        print(s.upper())\n",
    "    elif a==3:\n",
    "        print(s.title())\n",
    "    elif a==4:\n",
    "        print(s.swapcase())\n",
    "    elif a==5:\n",
    "        print(s[::-1])\n",
    "    elif a==6:\n",
    "        print(s.len())\n",
    "    elif a==7:\n",
    "        print(s.isalpha())\n",
    "    elif a==8:\n",
    "        print(s.islower())\n",
    "    elif a==9:\n",
    "        print(s.isupper())\n",
    "    elif a==10:\n",
    "        print(s.istitle())\n",
    "    else:\n",
    "        print(\"Enter a valid option:\")\n",
    "    rep=input(\"Do you want to continue?(Yes/No):\")\n",
    "    if rep.upper()=='YES':\n",
    "        continue\n",
    "    else:\n",
    "        break\n",
    "            \n",
    "        "
   ]
  },
  {
   "cell_type": "code",
   "execution_count": null,
   "id": "8b1ee915",
   "metadata": {},
   "outputs": [],
   "source": []
  }
 ],
 "metadata": {
  "kernelspec": {
   "display_name": "Python 3 (ipykernel)",
   "language": "python",
   "name": "python3"
  },
  "language_info": {
   "codemirror_mode": {
    "name": "ipython",
    "version": 3
   },
   "file_extension": ".py",
   "mimetype": "text/x-python",
   "name": "python",
   "nbconvert_exporter": "python",
   "pygments_lexer": "ipython3",
   "version": "3.9.13"
  }
 },
 "nbformat": 4,
 "nbformat_minor": 5
}
